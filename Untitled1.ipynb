{
  "nbformat": 4,
  "nbformat_minor": 0,
  "metadata": {
    "colab": {
      "provenance": [],
      "mount_file_id": "1mGotrmjkyUtQLMhNt9-yZIkWJ-pYWlRp",
      "authorship_tag": "ABX9TyMJQJ9jwzTl3R4IC8fNMl5S",
      "include_colab_link": true
    },
    "kernelspec": {
      "name": "python3",
      "display_name": "Python 3"
    },
    "language_info": {
      "name": "python"
    }
  },
  "cells": [
    {
      "cell_type": "markdown",
      "metadata": {
        "id": "view-in-github",
        "colab_type": "text"
      },
      "source": [
        "<a href=\"https://colab.research.google.com/github/Mayank-choudhary0001/Tree-Species-Identification/blob/main/Untitled1.ipynb\" target=\"_parent\"><img src=\"https://colab.research.google.com/assets/colab-badge.svg\" alt=\"Open In Colab\"/></a>"
      ]
    },
    {
      "cell_type": "code",
      "execution_count": null,
      "metadata": {
        "id": "FCpYq46SRh6Q"
      },
      "outputs": [],
      "source": [
        "from zipfile import ZipFile"
      ]
    },
    {
      "cell_type": "code",
      "source": [
        "with ZipFile('/content/drive/MyDrive/archive.zip','r') as zipObj:\n",
        "   zipObj.extractall('/content/drive/MyDrive/archive')"
      ],
      "metadata": {
        "id": "dFBIVkSRSWtE"
      },
      "execution_count": 5,
      "outputs": []
    }
  ]
}